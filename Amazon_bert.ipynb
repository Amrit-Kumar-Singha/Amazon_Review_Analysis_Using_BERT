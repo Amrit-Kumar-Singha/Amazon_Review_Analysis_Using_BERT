{
 "cells": [
  {
   "cell_type": "code",
   "execution_count": 1,
   "metadata": {},
   "outputs": [],
   "source": [
    "import pandas as pd\n",
    "import numpy as np\n",
    "import matplotlib.pyplot as plt\n",
    "import seaborn as sns\n",
    "import nltk\n",
    "import sklearn"
   ]
  },
  {
   "cell_type": "code",
   "execution_count": 2,
   "metadata": {},
   "outputs": [
    {
     "data": {
      "text/html": [
       "<div>\n",
       "<style scoped>\n",
       "    .dataframe tbody tr th:only-of-type {\n",
       "        vertical-align: middle;\n",
       "    }\n",
       "\n",
       "    .dataframe tbody tr th {\n",
       "        vertical-align: top;\n",
       "    }\n",
       "\n",
       "    .dataframe thead th {\n",
       "        text-align: right;\n",
       "    }\n",
       "</style>\n",
       "<table border=\"1\" class=\"dataframe\">\n",
       "  <thead>\n",
       "    <tr style=\"text-align: right;\">\n",
       "      <th></th>\n",
       "      <th>sentiment</th>\n",
       "      <th>title</th>\n",
       "      <th>text</th>\n",
       "    </tr>\n",
       "  </thead>\n",
       "  <tbody>\n",
       "    <tr>\n",
       "      <th>0</th>\n",
       "      <td>2</td>\n",
       "      <td>Stuning even for the non-gamer</td>\n",
       "      <td>This sound track was beautiful! It paints the ...</td>\n",
       "    </tr>\n",
       "    <tr>\n",
       "      <th>1</th>\n",
       "      <td>2</td>\n",
       "      <td>The best soundtrack ever to anything.</td>\n",
       "      <td>I'm reading a lot of reviews saying that this ...</td>\n",
       "    </tr>\n",
       "    <tr>\n",
       "      <th>2</th>\n",
       "      <td>2</td>\n",
       "      <td>Amazing!</td>\n",
       "      <td>This soundtrack is my favorite music of all ti...</td>\n",
       "    </tr>\n",
       "    <tr>\n",
       "      <th>3</th>\n",
       "      <td>2</td>\n",
       "      <td>Excellent Soundtrack</td>\n",
       "      <td>I truly like this soundtrack and I enjoy video...</td>\n",
       "    </tr>\n",
       "    <tr>\n",
       "      <th>4</th>\n",
       "      <td>2</td>\n",
       "      <td>Remember, Pull Your Jaw Off The Floor After He...</td>\n",
       "      <td>If you've played the game, you know how divine...</td>\n",
       "    </tr>\n",
       "  </tbody>\n",
       "</table>\n",
       "</div>"
      ],
      "text/plain": [
       "   sentiment                                              title  \\\n",
       "0          2                     Stuning even for the non-gamer   \n",
       "1          2              The best soundtrack ever to anything.   \n",
       "2          2                                           Amazing!   \n",
       "3          2                               Excellent Soundtrack   \n",
       "4          2  Remember, Pull Your Jaw Off The Floor After He...   \n",
       "\n",
       "                                                text  \n",
       "0  This sound track was beautiful! It paints the ...  \n",
       "1  I'm reading a lot of reviews saying that this ...  \n",
       "2  This soundtrack is my favorite music of all ti...  \n",
       "3  I truly like this soundtrack and I enjoy video...  \n",
       "4  If you've played the game, you know how divine...  "
      ]
     },
     "execution_count": 2,
     "metadata": {},
     "output_type": "execute_result"
    }
   ],
   "source": [
    "df=pd.read_csv('amazon_review_polarity_csv/train.csv',header=None)\n",
    "df.columns = ['sentiment', 'title','text']\n",
    "df.head()"
   ]
  },
  {
   "cell_type": "code",
   "execution_count": 3,
   "metadata": {},
   "outputs": [
    {
     "data": {
      "text/html": [
       "<div>\n",
       "<style scoped>\n",
       "    .dataframe tbody tr th:only-of-type {\n",
       "        vertical-align: middle;\n",
       "    }\n",
       "\n",
       "    .dataframe tbody tr th {\n",
       "        vertical-align: top;\n",
       "    }\n",
       "\n",
       "    .dataframe thead th {\n",
       "        text-align: right;\n",
       "    }\n",
       "</style>\n",
       "<table border=\"1\" class=\"dataframe\">\n",
       "  <thead>\n",
       "    <tr style=\"text-align: right;\">\n",
       "      <th></th>\n",
       "      <th>sentiment</th>\n",
       "      <th>text</th>\n",
       "    </tr>\n",
       "  </thead>\n",
       "  <tbody>\n",
       "    <tr>\n",
       "      <th>0</th>\n",
       "      <td>2</td>\n",
       "      <td>This sound track was beautiful! It paints the ...</td>\n",
       "    </tr>\n",
       "    <tr>\n",
       "      <th>1</th>\n",
       "      <td>2</td>\n",
       "      <td>I'm reading a lot of reviews saying that this ...</td>\n",
       "    </tr>\n",
       "    <tr>\n",
       "      <th>2</th>\n",
       "      <td>2</td>\n",
       "      <td>This soundtrack is my favorite music of all ti...</td>\n",
       "    </tr>\n",
       "    <tr>\n",
       "      <th>3</th>\n",
       "      <td>2</td>\n",
       "      <td>I truly like this soundtrack and I enjoy video...</td>\n",
       "    </tr>\n",
       "    <tr>\n",
       "      <th>4</th>\n",
       "      <td>2</td>\n",
       "      <td>If you've played the game, you know how divine...</td>\n",
       "    </tr>\n",
       "    <tr>\n",
       "      <th>...</th>\n",
       "      <td>...</td>\n",
       "      <td>...</td>\n",
       "    </tr>\n",
       "    <tr>\n",
       "      <th>3599995</th>\n",
       "      <td>1</td>\n",
       "      <td>The high chair looks great when it first comes...</td>\n",
       "    </tr>\n",
       "    <tr>\n",
       "      <th>3599996</th>\n",
       "      <td>1</td>\n",
       "      <td>I have used this highchair for 2 kids now and ...</td>\n",
       "    </tr>\n",
       "    <tr>\n",
       "      <th>3599997</th>\n",
       "      <td>1</td>\n",
       "      <td>We have a small house, and really wanted two o...</td>\n",
       "    </tr>\n",
       "    <tr>\n",
       "      <th>3599998</th>\n",
       "      <td>1</td>\n",
       "      <td>not sure what this book is supposed to be. It ...</td>\n",
       "    </tr>\n",
       "    <tr>\n",
       "      <th>3599999</th>\n",
       "      <td>2</td>\n",
       "      <td>I agree that every American should read this b...</td>\n",
       "    </tr>\n",
       "  </tbody>\n",
       "</table>\n",
       "<p>3600000 rows × 2 columns</p>\n",
       "</div>"
      ],
      "text/plain": [
       "         sentiment                                               text\n",
       "0                2  This sound track was beautiful! It paints the ...\n",
       "1                2  I'm reading a lot of reviews saying that this ...\n",
       "2                2  This soundtrack is my favorite music of all ti...\n",
       "3                2  I truly like this soundtrack and I enjoy video...\n",
       "4                2  If you've played the game, you know how divine...\n",
       "...            ...                                                ...\n",
       "3599995          1  The high chair looks great when it first comes...\n",
       "3599996          1  I have used this highchair for 2 kids now and ...\n",
       "3599997          1  We have a small house, and really wanted two o...\n",
       "3599998          1  not sure what this book is supposed to be. It ...\n",
       "3599999          2  I agree that every American should read this b...\n",
       "\n",
       "[3600000 rows x 2 columns]"
      ]
     },
     "execution_count": 3,
     "metadata": {},
     "output_type": "execute_result"
    }
   ],
   "source": [
    "df.drop('title', axis=1, inplace=True)\n",
    "df"
   ]
  },
  {
   "cell_type": "code",
   "execution_count": 4,
   "metadata": {},
   "outputs": [
    {
     "data": {
      "text/html": [
       "<div>\n",
       "<style scoped>\n",
       "    .dataframe tbody tr th:only-of-type {\n",
       "        vertical-align: middle;\n",
       "    }\n",
       "\n",
       "    .dataframe tbody tr th {\n",
       "        vertical-align: top;\n",
       "    }\n",
       "\n",
       "    .dataframe thead th {\n",
       "        text-align: right;\n",
       "    }\n",
       "</style>\n",
       "<table border=\"1\" class=\"dataframe\">\n",
       "  <thead>\n",
       "    <tr style=\"text-align: right;\">\n",
       "      <th></th>\n",
       "      <th>sentiment</th>\n",
       "      <th>text</th>\n",
       "    </tr>\n",
       "  </thead>\n",
       "  <tbody>\n",
       "    <tr>\n",
       "      <th>0</th>\n",
       "      <td>1</td>\n",
       "      <td>This sound track was beautiful! It paints the ...</td>\n",
       "    </tr>\n",
       "    <tr>\n",
       "      <th>1</th>\n",
       "      <td>1</td>\n",
       "      <td>I'm reading a lot of reviews saying that this ...</td>\n",
       "    </tr>\n",
       "    <tr>\n",
       "      <th>2</th>\n",
       "      <td>1</td>\n",
       "      <td>This soundtrack is my favorite music of all ti...</td>\n",
       "    </tr>\n",
       "    <tr>\n",
       "      <th>3</th>\n",
       "      <td>1</td>\n",
       "      <td>I truly like this soundtrack and I enjoy video...</td>\n",
       "    </tr>\n",
       "    <tr>\n",
       "      <th>4</th>\n",
       "      <td>1</td>\n",
       "      <td>If you've played the game, you know how divine...</td>\n",
       "    </tr>\n",
       "    <tr>\n",
       "      <th>...</th>\n",
       "      <td>...</td>\n",
       "      <td>...</td>\n",
       "    </tr>\n",
       "    <tr>\n",
       "      <th>3599995</th>\n",
       "      <td>0</td>\n",
       "      <td>The high chair looks great when it first comes...</td>\n",
       "    </tr>\n",
       "    <tr>\n",
       "      <th>3599996</th>\n",
       "      <td>0</td>\n",
       "      <td>I have used this highchair for 2 kids now and ...</td>\n",
       "    </tr>\n",
       "    <tr>\n",
       "      <th>3599997</th>\n",
       "      <td>0</td>\n",
       "      <td>We have a small house, and really wanted two o...</td>\n",
       "    </tr>\n",
       "    <tr>\n",
       "      <th>3599998</th>\n",
       "      <td>0</td>\n",
       "      <td>not sure what this book is supposed to be. It ...</td>\n",
       "    </tr>\n",
       "    <tr>\n",
       "      <th>3599999</th>\n",
       "      <td>1</td>\n",
       "      <td>I agree that every American should read this b...</td>\n",
       "    </tr>\n",
       "  </tbody>\n",
       "</table>\n",
       "<p>3600000 rows × 2 columns</p>\n",
       "</div>"
      ],
      "text/plain": [
       "         sentiment                                               text\n",
       "0                1  This sound track was beautiful! It paints the ...\n",
       "1                1  I'm reading a lot of reviews saying that this ...\n",
       "2                1  This soundtrack is my favorite music of all ti...\n",
       "3                1  I truly like this soundtrack and I enjoy video...\n",
       "4                1  If you've played the game, you know how divine...\n",
       "...            ...                                                ...\n",
       "3599995          0  The high chair looks great when it first comes...\n",
       "3599996          0  I have used this highchair for 2 kids now and ...\n",
       "3599997          0  We have a small house, and really wanted two o...\n",
       "3599998          0  not sure what this book is supposed to be. It ...\n",
       "3599999          1  I agree that every American should read this b...\n",
       "\n",
       "[3600000 rows x 2 columns]"
      ]
     },
     "execution_count": 4,
     "metadata": {},
     "output_type": "execute_result"
    }
   ],
   "source": [
    "df['sentiment'] = df['sentiment'].map({1:0,2:1})\n",
    "df"
   ]
  },
  {
   "cell_type": "code",
   "execution_count": 5,
   "metadata": {},
   "outputs": [
    {
     "data": {
      "text/plain": [
       "(1800000, 2)"
      ]
     },
     "execution_count": 5,
     "metadata": {},
     "output_type": "execute_result"
    }
   ],
   "source": [
    "df_1=df[df['sentiment']==0]\n",
    "df_1.shape"
   ]
  },
  {
   "cell_type": "code",
   "execution_count": 6,
   "metadata": {},
   "outputs": [
    {
     "data": {
      "text/plain": [
       "(1800000, 2)"
      ]
     },
     "execution_count": 6,
     "metadata": {},
     "output_type": "execute_result"
    }
   ],
   "source": [
    "df_2=df[df['sentiment']==1]\n",
    "df_2.shape"
   ]
  },
  {
   "cell_type": "code",
   "execution_count": 7,
   "metadata": {},
   "outputs": [
    {
     "data": {
      "text/plain": [
       "(5000, 2)"
      ]
     },
     "execution_count": 7,
     "metadata": {},
     "output_type": "execute_result"
    }
   ],
   "source": [
    "df_1_downsampled=df_1.sample(5000)\n",
    "df_1_downsampled.shape"
   ]
  },
  {
   "cell_type": "code",
   "execution_count": 8,
   "metadata": {},
   "outputs": [
    {
     "data": {
      "text/plain": [
       "(5000, 2)"
      ]
     },
     "execution_count": 8,
     "metadata": {},
     "output_type": "execute_result"
    }
   ],
   "source": [
    "df_2_downsampled=df_2.sample(5000)\n",
    "df_2_downsampled.shape"
   ]
  },
  {
   "cell_type": "code",
   "execution_count": 9,
   "metadata": {},
   "outputs": [
    {
     "data": {
      "text/plain": [
       "(10000, 2)"
      ]
     },
     "execution_count": 9,
     "metadata": {},
     "output_type": "execute_result"
    }
   ],
   "source": [
    "df_balanced=pd.concat([df_1_downsampled,df_2_downsampled])\n",
    "df_balanced.shape"
   ]
  },
  {
   "cell_type": "code",
   "execution_count": 10,
   "metadata": {},
   "outputs": [
    {
     "name": "stdout",
     "output_type": "stream",
     "text": [
      "sentiment\n",
      "0    5000\n",
      "1    5000\n",
      "Name: count, dtype: int64\n"
     ]
    },
    {
     "data": {
      "text/html": [
       "<div>\n",
       "<style scoped>\n",
       "    .dataframe tbody tr th:only-of-type {\n",
       "        vertical-align: middle;\n",
       "    }\n",
       "\n",
       "    .dataframe tbody tr th {\n",
       "        vertical-align: top;\n",
       "    }\n",
       "\n",
       "    .dataframe thead th {\n",
       "        text-align: right;\n",
       "    }\n",
       "</style>\n",
       "<table border=\"1\" class=\"dataframe\">\n",
       "  <thead>\n",
       "    <tr style=\"text-align: right;\">\n",
       "      <th></th>\n",
       "      <th>sentiment</th>\n",
       "      <th>text</th>\n",
       "    </tr>\n",
       "  </thead>\n",
       "  <tbody>\n",
       "    <tr>\n",
       "      <th>1866664</th>\n",
       "      <td>0</td>\n",
       "      <td>I left a review September of 2007. I tried the...</td>\n",
       "    </tr>\n",
       "    <tr>\n",
       "      <th>3424911</th>\n",
       "      <td>0</td>\n",
       "      <td>It may not happen to others, but I get a total...</td>\n",
       "    </tr>\n",
       "    <tr>\n",
       "      <th>3208521</th>\n",
       "      <td>0</td>\n",
       "      <td>You get what you pay for, I got two and one wa...</td>\n",
       "    </tr>\n",
       "    <tr>\n",
       "      <th>3066358</th>\n",
       "      <td>0</td>\n",
       "      <td>You cannot set your height in the English sett...</td>\n",
       "    </tr>\n",
       "    <tr>\n",
       "      <th>368423</th>\n",
       "      <td>0</td>\n",
       "      <td>I waited for the sequel to \"Silence of the Lam...</td>\n",
       "    </tr>\n",
       "    <tr>\n",
       "      <th>...</th>\n",
       "      <td>...</td>\n",
       "      <td>...</td>\n",
       "    </tr>\n",
       "    <tr>\n",
       "      <th>1654776</th>\n",
       "      <td>1</td>\n",
       "      <td>This book is not just a knitting book--it is o...</td>\n",
       "    </tr>\n",
       "    <tr>\n",
       "      <th>3100129</th>\n",
       "      <td>1</td>\n",
       "      <td>Generally a fascinating look into the life of ...</td>\n",
       "    </tr>\n",
       "    <tr>\n",
       "      <th>2351599</th>\n",
       "      <td>1</td>\n",
       "      <td>I was fascinated by this character and the sto...</td>\n",
       "    </tr>\n",
       "    <tr>\n",
       "      <th>2825677</th>\n",
       "      <td>1</td>\n",
       "      <td>i realy liked the kunuffle bunny i liked the p...</td>\n",
       "    </tr>\n",
       "    <tr>\n",
       "      <th>1808881</th>\n",
       "      <td>1</td>\n",
       "      <td>Where are the 40 some reviews listed here prev...</td>\n",
       "    </tr>\n",
       "  </tbody>\n",
       "</table>\n",
       "<p>10000 rows × 2 columns</p>\n",
       "</div>"
      ],
      "text/plain": [
       "         sentiment                                               text\n",
       "1866664          0  I left a review September of 2007. I tried the...\n",
       "3424911          0  It may not happen to others, but I get a total...\n",
       "3208521          0  You get what you pay for, I got two and one wa...\n",
       "3066358          0  You cannot set your height in the English sett...\n",
       "368423           0  I waited for the sequel to \"Silence of the Lam...\n",
       "...            ...                                                ...\n",
       "1654776          1  This book is not just a knitting book--it is o...\n",
       "3100129          1  Generally a fascinating look into the life of ...\n",
       "2351599          1  I was fascinated by this character and the sto...\n",
       "2825677          1  i realy liked the kunuffle bunny i liked the p...\n",
       "1808881          1  Where are the 40 some reviews listed here prev...\n",
       "\n",
       "[10000 rows x 2 columns]"
      ]
     },
     "execution_count": 10,
     "metadata": {},
     "output_type": "execute_result"
    }
   ],
   "source": [
    "print(df_balanced['sentiment'].value_counts())\n",
    "df_balanced"
   ]
  },
  {
   "cell_type": "code",
   "execution_count": 11,
   "metadata": {},
   "outputs": [
    {
     "name": "stderr",
     "output_type": "stream",
     "text": [
      "100%|██████████| 10000/10000 [02:13<00:00, 75.12it/s]\n"
     ]
    }
   ],
   "source": [
    "from tqdm import tqdm  \n",
    "import spacy\n",
    "nlp = spacy.load(\"en_core_web_sm\")\n",
    "\n",
    "def preprocess(cleaned_review):\n",
    "    doc=nlp(cleaned_review)\n",
    "    filtered_tokens=[]\n",
    "    for token in doc:\n",
    "        if token.is_stop or token.is_punct:\n",
    "            continue\n",
    "        filtered_tokens.append(token.lemma_)\n",
    "    return \" \".join(filtered_tokens)\n",
    "tqdm.pandas()\n",
    "df_balanced['preprocessed_txt']=df_balanced['text'].progress_apply(preprocess)\n"
   ]
  },
  {
   "cell_type": "code",
   "execution_count": 12,
   "metadata": {},
   "outputs": [
    {
     "data": {
      "text/html": [
       "<div>\n",
       "<style scoped>\n",
       "    .dataframe tbody tr th:only-of-type {\n",
       "        vertical-align: middle;\n",
       "    }\n",
       "\n",
       "    .dataframe tbody tr th {\n",
       "        vertical-align: top;\n",
       "    }\n",
       "\n",
       "    .dataframe thead th {\n",
       "        text-align: right;\n",
       "    }\n",
       "</style>\n",
       "<table border=\"1\" class=\"dataframe\">\n",
       "  <thead>\n",
       "    <tr style=\"text-align: right;\">\n",
       "      <th></th>\n",
       "      <th>sentiment</th>\n",
       "      <th>text</th>\n",
       "      <th>preprocessed_txt</th>\n",
       "    </tr>\n",
       "  </thead>\n",
       "  <tbody>\n",
       "    <tr>\n",
       "      <th>1866664</th>\n",
       "      <td>0</td>\n",
       "      <td>I left a review September of 2007. I tried the...</td>\n",
       "      <td>leave review September 2007 try new band come ...</td>\n",
       "    </tr>\n",
       "    <tr>\n",
       "      <th>3424911</th>\n",
       "      <td>0</td>\n",
       "      <td>It may not happen to others, but I get a total...</td>\n",
       "      <td>happen total screen freezeabout 10 minute high...</td>\n",
       "    </tr>\n",
       "    <tr>\n",
       "      <th>3208521</th>\n",
       "      <td>0</td>\n",
       "      <td>You get what you pay for, I got two and one wa...</td>\n",
       "      <td>pay get crack get cause barrel jam get piece f...</td>\n",
       "    </tr>\n",
       "    <tr>\n",
       "      <th>3066358</th>\n",
       "      <td>0</td>\n",
       "      <td>You cannot set your height in the English sett...</td>\n",
       "      <td>set height English setting set height scale de...</td>\n",
       "    </tr>\n",
       "    <tr>\n",
       "      <th>368423</th>\n",
       "      <td>0</td>\n",
       "      <td>I waited for the sequel to \"Silence of the Lam...</td>\n",
       "      <td>wait sequel silence lamb 10 year suppose live ...</td>\n",
       "    </tr>\n",
       "    <tr>\n",
       "      <th>...</th>\n",
       "      <td>...</td>\n",
       "      <td>...</td>\n",
       "      <td>...</td>\n",
       "    </tr>\n",
       "    <tr>\n",
       "      <th>1654776</th>\n",
       "      <td>1</td>\n",
       "      <td>This book is not just a knitting book--it is o...</td>\n",
       "      <td>book knitting book curl read myth adaptation f...</td>\n",
       "    </tr>\n",
       "    <tr>\n",
       "      <th>3100129</th>\n",
       "      <td>1</td>\n",
       "      <td>Generally a fascinating look into the life of ...</td>\n",
       "      <td>generally fascinating look life Lincoln contem...</td>\n",
       "    </tr>\n",
       "    <tr>\n",
       "      <th>2351599</th>\n",
       "      <td>1</td>\n",
       "      <td>I was fascinated by this character and the sto...</td>\n",
       "      <td>fascinate character story begin end find backd...</td>\n",
       "    </tr>\n",
       "    <tr>\n",
       "      <th>2825677</th>\n",
       "      <td>1</td>\n",
       "      <td>i realy liked the kunuffle bunny i liked the p...</td>\n",
       "      <td>realy like kunuffle bunny like picher dettall ...</td>\n",
       "    </tr>\n",
       "    <tr>\n",
       "      <th>1808881</th>\n",
       "      <td>1</td>\n",
       "      <td>Where are the 40 some reviews listed here prev...</td>\n",
       "      <td>40 review list previously review helpful influ...</td>\n",
       "    </tr>\n",
       "  </tbody>\n",
       "</table>\n",
       "<p>10000 rows × 3 columns</p>\n",
       "</div>"
      ],
      "text/plain": [
       "         sentiment                                               text  \\\n",
       "1866664          0  I left a review September of 2007. I tried the...   \n",
       "3424911          0  It may not happen to others, but I get a total...   \n",
       "3208521          0  You get what you pay for, I got two and one wa...   \n",
       "3066358          0  You cannot set your height in the English sett...   \n",
       "368423           0  I waited for the sequel to \"Silence of the Lam...   \n",
       "...            ...                                                ...   \n",
       "1654776          1  This book is not just a knitting book--it is o...   \n",
       "3100129          1  Generally a fascinating look into the life of ...   \n",
       "2351599          1  I was fascinated by this character and the sto...   \n",
       "2825677          1  i realy liked the kunuffle bunny i liked the p...   \n",
       "1808881          1  Where are the 40 some reviews listed here prev...   \n",
       "\n",
       "                                          preprocessed_txt  \n",
       "1866664  leave review September 2007 try new band come ...  \n",
       "3424911  happen total screen freezeabout 10 minute high...  \n",
       "3208521  pay get crack get cause barrel jam get piece f...  \n",
       "3066358  set height English setting set height scale de...  \n",
       "368423   wait sequel silence lamb 10 year suppose live ...  \n",
       "...                                                    ...  \n",
       "1654776  book knitting book curl read myth adaptation f...  \n",
       "3100129  generally fascinating look life Lincoln contem...  \n",
       "2351599  fascinate character story begin end find backd...  \n",
       "2825677  realy like kunuffle bunny like picher dettall ...  \n",
       "1808881  40 review list previously review helpful influ...  \n",
       "\n",
       "[10000 rows x 3 columns]"
      ]
     },
     "execution_count": 12,
     "metadata": {},
     "output_type": "execute_result"
    }
   ],
   "source": [
    "df_balanced"
   ]
  },
  {
   "cell_type": "code",
   "execution_count": 13,
   "metadata": {},
   "outputs": [],
   "source": [
    "from sklearn.model_selection import train_test_split\n",
    "X_Train, X_Test, Y_Train, Y_Test=train_test_split(df_balanced['preprocessed_txt'],df_balanced['sentiment'], stratify=df_balanced['sentiment'])"
   ]
  },
  {
   "cell_type": "code",
   "execution_count": 14,
   "metadata": {},
   "outputs": [],
   "source": [
    "import tensorflow as tf\n",
    "import tensorflow_hub as hub\n",
    "import tensorflow_text as text"
   ]
  },
  {
   "cell_type": "code",
   "execution_count": 15,
   "metadata": {},
   "outputs": [],
   "source": [
    "bert_preprocess=hub.KerasLayer(\"https://tfhub.dev/tensorflow/bert_en_uncased_preprocess/3\")\n",
    "bert_encoder=hub.KerasLayer(\"https://tfhub.dev/tensorflow/bert_en_uncased_L-12_H-768_A-12/4\")"
   ]
  },
  {
   "cell_type": "code",
   "execution_count": 16,
   "metadata": {},
   "outputs": [],
   "source": [
    "def get_sentence_embeding(sentences):\n",
    "    preprocessed_txt=bert_preprocess(sentences)\n",
    "    return bert_encoder(preprocessed_txt)['pooled_output']"
   ]
  },
  {
   "cell_type": "code",
   "execution_count": 17,
   "metadata": {},
   "outputs": [],
   "source": [
    "text_input=tf.keras.layers.Input(shape=(),dtype=tf.string, name='text')\n",
    "preprocessed_txt=bert_preprocess(text_input)\n",
    "outputs=bert_encoder(preprocessed_txt)"
   ]
  },
  {
   "cell_type": "code",
   "execution_count": 18,
   "metadata": {},
   "outputs": [],
   "source": [
    "l=tf.keras.layers.Dropout(0.1, name='dropout')(outputs['pooled_output'])\n",
    "l=tf.keras.layers.Dense(1, activation='sigmoid', name='output')(l)"
   ]
  },
  {
   "cell_type": "code",
   "execution_count": 19,
   "metadata": {},
   "outputs": [
    {
     "name": "stdout",
     "output_type": "stream",
     "text": [
      "Model: \"model\"\n",
      "__________________________________________________________________________________________________\n",
      " Layer (type)                   Output Shape         Param #     Connected to                     \n",
      "==================================================================================================\n",
      " text (InputLayer)              [(None,)]            0           []                               \n",
      "                                                                                                  \n",
      " keras_layer (KerasLayer)       {'input_mask': (Non  0           ['text[0][0]']                   \n",
      "                                e, 128),                                                          \n",
      "                                 'input_word_ids':                                                \n",
      "                                (None, 128),                                                      \n",
      "                                 'input_type_ids':                                                \n",
      "                                (None, 128)}                                                      \n",
      "                                                                                                  \n",
      " keras_layer_1 (KerasLayer)     {'encoder_outputs':  109482241   ['keras_layer[0][0]',            \n",
      "                                 [(None, 128, 768),               'keras_layer[0][1]',            \n",
      "                                 (None, 128, 768),                'keras_layer[0][2]']            \n",
      "                                 (None, 128, 768),                                                \n",
      "                                 (None, 128, 768),                                                \n",
      "                                 (None, 128, 768),                                                \n",
      "                                 (None, 128, 768),                                                \n",
      "                                 (None, 128, 768),                                                \n",
      "                                 (None, 128, 768),                                                \n",
      "                                 (None, 128, 768),                                                \n",
      "                                 (None, 128, 768),                                                \n",
      "                                 (None, 128, 768),                                                \n",
      "                                 (None, 128, 768)],                                               \n",
      "                                 'sequence_output':                                               \n",
      "                                 (None, 128, 768),                                                \n",
      "                                 'pooled_output': (                                               \n",
      "                                None, 768),                                                       \n",
      "                                 'default': (None,                                                \n",
      "                                768)}                                                             \n",
      "                                                                                                  \n",
      " dropout (Dropout)              (None, 768)          0           ['keras_layer_1[0][13]']         \n",
      "                                                                                                  \n",
      " output (Dense)                 (None, 1)            769         ['dropout[0][0]']                \n",
      "                                                                                                  \n",
      "==================================================================================================\n",
      "Total params: 109,483,010\n",
      "Trainable params: 769\n",
      "Non-trainable params: 109,482,241\n",
      "__________________________________________________________________________________________________\n"
     ]
    }
   ],
   "source": [
    "model=tf.keras.Model(inputs=[text_input],outputs=[l])\n",
    "model.summary()"
   ]
  },
  {
   "cell_type": "code",
   "execution_count": 20,
   "metadata": {},
   "outputs": [],
   "source": [
    "METRICS=[\n",
    "    tf.keras.metrics.BinaryAccuracy(name=\"accuracy\"),\n",
    "    tf.keras.metrics.Precision(name='Precision'),\n",
    "    tf.keras.metrics.Recall(name='Recall'),\n",
    "]"
   ]
  },
  {
   "cell_type": "code",
   "execution_count": 21,
   "metadata": {},
   "outputs": [],
   "source": [
    "model.compile(optimizer='adam',\n",
    "    loss='binary_crossentropy',\n",
    "    metrics=METRICS)"
   ]
  },
  {
   "cell_type": "code",
   "execution_count": 22,
   "metadata": {},
   "outputs": [
    {
     "name": "stdout",
     "output_type": "stream",
     "text": [
      "Epoch 1/30\n",
      "235/235 [==============================] - 168s 675ms/step - loss: 0.6830 - accuracy: 0.5577 - Precision: 0.5573 - Recall: 0.5613\n",
      "Epoch 2/30\n",
      "235/235 [==============================] - 159s 676ms/step - loss: 0.6439 - accuracy: 0.6324 - Precision: 0.6335 - Recall: 0.6283\n",
      "Epoch 3/30\n",
      "235/235 [==============================] - 159s 677ms/step - loss: 0.6200 - accuracy: 0.6601 - Precision: 0.6639 - Recall: 0.6485\n",
      "Epoch 4/30\n",
      "235/235 [==============================] - 160s 682ms/step - loss: 0.6069 - accuracy: 0.6793 - Precision: 0.6785 - Recall: 0.6816\n",
      "Epoch 5/30\n",
      "235/235 [==============================] - 163s 696ms/step - loss: 0.5978 - accuracy: 0.6837 - Precision: 0.6853 - Recall: 0.6795\n",
      "Epoch 6/30\n",
      "235/235 [==============================] - 164s 696ms/step - loss: 0.5853 - accuracy: 0.6944 - Precision: 0.6965 - Recall: 0.6891\n",
      "Epoch 7/30\n",
      "235/235 [==============================] - 163s 696ms/step - loss: 0.5817 - accuracy: 0.6917 - Precision: 0.6934 - Recall: 0.6875\n",
      "Epoch 8/30\n",
      "235/235 [==============================] - 163s 695ms/step - loss: 0.5750 - accuracy: 0.6991 - Precision: 0.6980 - Recall: 0.7019\n",
      "Epoch 9/30\n",
      "235/235 [==============================] - 163s 696ms/step - loss: 0.5704 - accuracy: 0.7004 - Precision: 0.7042 - Recall: 0.6912\n",
      "Epoch 10/30\n",
      "235/235 [==============================] - 164s 696ms/step - loss: 0.5673 - accuracy: 0.7064 - Precision: 0.7107 - Recall: 0.6963\n",
      "Epoch 11/30\n",
      "235/235 [==============================] - 163s 695ms/step - loss: 0.5635 - accuracy: 0.7087 - Precision: 0.7083 - Recall: 0.7096\n",
      "Epoch 12/30\n",
      "235/235 [==============================] - 163s 695ms/step - loss: 0.5593 - accuracy: 0.7188 - Precision: 0.7213 - Recall: 0.7131\n",
      "Epoch 13/30\n",
      "235/235 [==============================] - 163s 695ms/step - loss: 0.5593 - accuracy: 0.7184 - Precision: 0.7183 - Recall: 0.7187\n",
      "Epoch 14/30\n",
      "235/235 [==============================] - 164s 696ms/step - loss: 0.5529 - accuracy: 0.7148 - Precision: 0.7185 - Recall: 0.7064\n",
      "Epoch 15/30\n",
      "235/235 [==============================] - 164s 696ms/step - loss: 0.5544 - accuracy: 0.7163 - Precision: 0.7149 - Recall: 0.7195\n",
      "Epoch 16/30\n",
      "235/235 [==============================] - 164s 696ms/step - loss: 0.5520 - accuracy: 0.7204 - Precision: 0.7233 - Recall: 0.7139\n",
      "Epoch 17/30\n",
      "235/235 [==============================] - 164s 696ms/step - loss: 0.5484 - accuracy: 0.7209 - Precision: 0.7191 - Recall: 0.7251\n",
      "Epoch 18/30\n",
      "235/235 [==============================] - 164s 697ms/step - loss: 0.5483 - accuracy: 0.7205 - Precision: 0.7217 - Recall: 0.7179\n",
      "Epoch 19/30\n",
      "235/235 [==============================] - 164s 697ms/step - loss: 0.5512 - accuracy: 0.7196 - Precision: 0.7220 - Recall: 0.7141\n",
      "Epoch 20/30\n",
      "235/235 [==============================] - 164s 697ms/step - loss: 0.5463 - accuracy: 0.7207 - Precision: 0.7207 - Recall: 0.7205\n",
      "Epoch 21/30\n",
      "235/235 [==============================] - 164s 697ms/step - loss: 0.5431 - accuracy: 0.7264 - Precision: 0.7281 - Recall: 0.7227\n",
      "Epoch 22/30\n",
      "235/235 [==============================] - 164s 696ms/step - loss: 0.5476 - accuracy: 0.7197 - Precision: 0.7253 - Recall: 0.7075\n",
      "Epoch 23/30\n",
      "235/235 [==============================] - 163s 696ms/step - loss: 0.5523 - accuracy: 0.7168 - Precision: 0.7181 - Recall: 0.7139\n",
      "Epoch 24/30\n",
      "235/235 [==============================] - 163s 694ms/step - loss: 0.5457 - accuracy: 0.7221 - Precision: 0.7240 - Recall: 0.7179\n",
      "Epoch 25/30\n",
      "235/235 [==============================] - 161s 684ms/step - loss: 0.5469 - accuracy: 0.7197 - Precision: 0.7244 - Recall: 0.7093\n",
      "Epoch 26/30\n",
      "235/235 [==============================] - 161s 684ms/step - loss: 0.5407 - accuracy: 0.7260 - Precision: 0.7290 - Recall: 0.7195\n",
      "Epoch 27/30\n",
      "235/235 [==============================] - 161s 684ms/step - loss: 0.5492 - accuracy: 0.7201 - Precision: 0.7229 - Recall: 0.7139\n",
      "Epoch 28/30\n",
      "235/235 [==============================] - 161s 684ms/step - loss: 0.5423 - accuracy: 0.7243 - Precision: 0.7268 - Recall: 0.7187\n",
      "Epoch 29/30\n",
      "235/235 [==============================] - 161s 686ms/step - loss: 0.5434 - accuracy: 0.7263 - Precision: 0.7283 - Recall: 0.7219\n",
      "Epoch 30/30\n",
      "235/235 [==============================] - 161s 684ms/step - loss: 0.5378 - accuracy: 0.7323 - Precision: 0.7339 - Recall: 0.7288\n"
     ]
    },
    {
     "data": {
      "text/plain": [
       "<keras.callbacks.History at 0x1e3aa5b7520>"
      ]
     },
     "execution_count": 22,
     "metadata": {},
     "output_type": "execute_result"
    }
   ],
   "source": [
    "model.fit(X_Train,Y_Train,epochs=30)"
   ]
  },
  {
   "cell_type": "code",
   "execution_count": 23,
   "metadata": {},
   "outputs": [
    {
     "name": "stdout",
     "output_type": "stream",
     "text": [
      "79/79 [==============================] - 54s 677ms/step - loss: 0.5365 - accuracy: 0.7372 - Precision: 0.7092 - Recall: 0.8040\n"
     ]
    },
    {
     "data": {
      "text/plain": [
       "[0.5364626049995422,\n",
       " 0.7372000217437744,\n",
       " 0.7092449069023132,\n",
       " 0.8040000200271606]"
      ]
     },
     "execution_count": 23,
     "metadata": {},
     "output_type": "execute_result"
    }
   ],
   "source": [
    "model.evaluate(X_Test,Y_Test)"
   ]
  },
  {
   "cell_type": "code",
   "execution_count": 24,
   "metadata": {},
   "outputs": [
    {
     "name": "stdout",
     "output_type": "stream",
     "text": [
      "79/79 [==============================] - 54s 685ms/step\n"
     ]
    }
   ],
   "source": [
    "Y_Predicted=model.predict(X_Test)\n",
    "Y_Predicted=Y_Predicted.flatten()"
   ]
  },
  {
   "cell_type": "code",
   "execution_count": 25,
   "metadata": {},
   "outputs": [
    {
     "data": {
      "text/plain": [
       "array([1, 1, 1, ..., 1, 0, 1])"
      ]
     },
     "execution_count": 25,
     "metadata": {},
     "output_type": "execute_result"
    }
   ],
   "source": [
    "Y_Predicted=np.where(Y_Predicted>0.5,1,0)\n",
    "Y_Predicted"
   ]
  },
  {
   "cell_type": "code",
   "execution_count": 26,
   "metadata": {},
   "outputs": [
    {
     "data": {
      "text/plain": [
       "array([[ 838,  412],\n",
       "       [ 245, 1005]], dtype=int64)"
      ]
     },
     "execution_count": 26,
     "metadata": {},
     "output_type": "execute_result"
    }
   ],
   "source": [
    "from sklearn.metrics import confusion_matrix,classification_report\n",
    "\n",
    "cm=confusion_matrix(Y_Test,Y_Predicted)\n",
    "cm"
   ]
  },
  {
   "cell_type": "code",
   "execution_count": 27,
   "metadata": {},
   "outputs": [
    {
     "name": "stdout",
     "output_type": "stream",
     "text": [
      "              precision    recall  f1-score   support\n",
      "\n",
      "           0       0.77      0.67      0.72      1250\n",
      "           1       0.71      0.80      0.75      1250\n",
      "\n",
      "    accuracy                           0.74      2500\n",
      "   macro avg       0.74      0.74      0.74      2500\n",
      "weighted avg       0.74      0.74      0.74      2500\n",
      "\n"
     ]
    }
   ],
   "source": [
    "print(classification_report(Y_Test,Y_Predicted))"
   ]
  },
  {
   "cell_type": "code",
   "execution_count": null,
   "metadata": {},
   "outputs": [],
   "source": []
  },
  {
   "cell_type": "code",
   "execution_count": null,
   "metadata": {},
   "outputs": [],
   "source": []
  }
 ],
 "metadata": {
  "kernelspec": {
   "display_name": "env",
   "language": "python",
   "name": "python3"
  },
  "language_info": {
   "codemirror_mode": {
    "name": "ipython",
    "version": 3
   },
   "file_extension": ".py",
   "mimetype": "text/x-python",
   "name": "python",
   "nbconvert_exporter": "python",
   "pygments_lexer": "ipython3",
   "version": "3.9.13"
  },
  "orig_nbformat": 4
 },
 "nbformat": 4,
 "nbformat_minor": 2
}
